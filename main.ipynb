{
 "cells": [
  {
   "cell_type": "markdown",
   "metadata": {},
   "source": [
    "### Loading the data\n",
    "- First we load statueses from the json file\n",
    "- As you can see in the code below"
   ]
  },
  {
   "cell_type": "code",
   "execution_count": 4,
   "metadata": {},
   "outputs": [],
   "source": [
    "import json\n",
    "\n",
    "# Read the 600 statuses from the json file\n",
    "with open(\"./esc2023_600statuses_pre-final_de.json\", \"r\") as file:\n",
    "    try:\n",
    "        statuses = json.load(file)\n",
    "    except :\n",
    "        print(\"Can't read json file\")\n",
    "\n"
   ]
  },
  {
   "cell_type": "markdown",
   "metadata": {},
   "source": [
    "### Obtaining data\n",
    "- Getting status text\n",
    "- Getting screen names\n",
    "- Getting hashtags\n",
    "- Getting words in text"
   ]
  },
  {
   "cell_type": "markdown",
   "metadata": {},
   "source": []
  },
  {
   "cell_type": "code",
   "execution_count": 5,
   "metadata": {},
   "outputs": [],
   "source": [
    "status_texts = [status['text'] for status in statuses]\n",
    "\n",
    "screen_names = [user_mention['screen_name'] for status in statuses\n",
    "                for user_mention in status['entities']['user_mentions']]\n",
    "\n",
    "hashtags = [hashtag['text'] for status in statuses\n",
    "\n",
    "            for hashtag in status['entities']['hashtags']]\n",
    "words = [w for t in status_texts\n",
    "         for w in t.split()] "
   ]
  },
  {
   "cell_type": "markdown",
   "metadata": {},
   "source": [
    "### Analyse data\n",
    "- Print the frequent words, screen_names, hashtags\n",
    "- Find 5 top frequent in each class\n",
    "- Print them in table"
   ]
  },
  {
   "cell_type": "code",
   "execution_count": 6,
   "metadata": {},
   "outputs": [
    {
     "name": "stdout",
     "output_type": "stream",
     "text": [
      "+-----------------+-------+\n",
      "|      Words      | Count |\n",
      "+-----------------+-------+\n",
      "|     #ESC2023    |  335  |\n",
      "|   #Eurovision   |  221  |\n",
      "| #Eurovision2023 |  138  |\n",
      "|        RT       |  134  |\n",
      "|       die       |  113  |\n",
      "+-----------------+-------+\n",
      "+-----------------+-------+\n",
      "|   Screen_names  | Count |\n",
      "+-----------------+-------+\n",
      "| berlinerzeitung |   35  |\n",
      "| WindmaschineESC |   17  |\n",
      "|  KathaKlarname  |   10  |\n",
      "|   back_andy_09  |   10  |\n",
      "|   MikkelMachts  |   9   |\n",
      "+-----------------+-------+\n",
      "+----------------+-------+\n",
      "|    Hashtags    | Count |\n",
      "+----------------+-------+\n",
      "|    ESC2023     |  346  |\n",
      "|   Eurovision   |  235  |\n",
      "| Eurovision2023 |  138  |\n",
      "|      ESC       |  114  |\n",
      "|    esc2023     |  111  |\n",
      "+----------------+-------+\n"
     ]
    }
   ],
   "source": [
    "from collections import Counter\n",
    "from prettytable import PrettyTable\n",
    "\n",
    "for label, data in ((\"Words\", words), (\"Screen_names\", screen_names), (\"Hashtags\",hashtags)):\n",
    "    pt = PrettyTable(field_names=(label, \"Count\"))\n",
    "    c = Counter(data)\n",
    "    [pt.add_row(row) for row in c.most_common()[:5]]\n",
    "    print(pt)\n",
    "   "
   ]
  }
 ],
 "metadata": {
  "kernelspec": {
   "display_name": "Python 3.9.13 ('sample_plot')",
   "language": "python",
   "name": "python3"
  },
  "language_info": {
   "codemirror_mode": {
    "name": "ipython",
    "version": 3
   },
   "file_extension": ".py",
   "mimetype": "text/x-python",
   "name": "python",
   "nbconvert_exporter": "python",
   "pygments_lexer": "ipython3",
   "version": "3.11.5"
  },
  "orig_nbformat": 4,
  "vscode": {
   "interpreter": {
    "hash": "e424cb7cf7e62f5f3330fc93e7fbc770378a1be0b30c4819e1a5db18a1ba1939"
   }
  }
 },
 "nbformat": 4,
 "nbformat_minor": 2
}
