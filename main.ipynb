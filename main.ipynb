{
 "cells": [
  {
   "cell_type": "markdown",
   "metadata": {},
   "source": [
    "### Loading the data\n",
    "- First we load statueses from the json file\n",
    "- As you can see in the code below"
   ]
  },
  {
   "cell_type": "code",
   "execution_count": 10,
   "metadata": {},
   "outputs": [],
   "source": [
    "import json\n",
    "\n",
    "# Read the 600 statuses from the json file\n",
    "with open(\"./data/esc2023_600statuses_pre-final_de.json\", \"r\") as file:\n",
    "    try:\n",
    "        statuses = json.load(file)\n",
    "    except :\n",
    "        print(\"Can't read json file\")\n",
    "\n"
   ]
  },
  {
   "cell_type": "markdown",
   "metadata": {},
   "source": [
    "### Obtaining data\n",
    "- Getting status text\n",
    "- Getting screen names\n",
    "- Getting hashtags\n",
    "- Getting words in text"
   ]
  },
  {
   "cell_type": "markdown",
   "metadata": {},
   "source": []
  },
  {
   "cell_type": "code",
   "execution_count": 11,
   "metadata": {},
   "outputs": [],
   "source": [
    "status_texts = [status['text'] for status in statuses]\n",
    "\n",
    "screen_names = [user_mention['screen_name'] for status in statuses\n",
    "                for user_mention in status['entities']['user_mentions']]\n",
    "\n",
    "hashtags = [hashtag['text'] for status in statuses\n",
    "\n",
    "            for hashtag in status['entities']['hashtags']]\n",
    "words = [w for t in status_texts\n",
    "         for w in t.split()] "
   ]
  },
  {
   "cell_type": "markdown",
   "metadata": {},
   "source": [
    "### Analyse data\n",
    "- Print the frequent words, screen_names, hashtags\n",
    "- Find 5 top frequent in each class\n",
    "- Print them in table"
   ]
  },
  {
   "cell_type": "code",
   "execution_count": 12,
   "metadata": {},
   "outputs": [
    {
     "name": "stdout",
     "output_type": "stream",
     "text": [
      "+-----------------+-------+\n",
      "|      Words      | Count |\n",
      "+-----------------+-------+\n",
      "|     #ESC2023    |  335  |\n",
      "|   #Eurovision   |  221  |\n",
      "| #Eurovision2023 |  138  |\n",
      "|        RT       |  134  |\n",
      "|       die       |  113  |\n",
      "+-----------------+-------+\n",
      "+-----------------+-------+\n",
      "|   Screen_names  | Count |\n",
      "+-----------------+-------+\n",
      "| berlinerzeitung |   35  |\n",
      "| WindmaschineESC |   17  |\n",
      "|  KathaKlarname  |   10  |\n",
      "|   back_andy_09  |   10  |\n",
      "|   MikkelMachts  |   9   |\n",
      "+-----------------+-------+\n",
      "+----------------+-------+\n",
      "|    Hashtags    | Count |\n",
      "+----------------+-------+\n",
      "|    ESC2023     |  346  |\n",
      "|   Eurovision   |  235  |\n",
      "| Eurovision2023 |  138  |\n",
      "|      ESC       |  114  |\n",
      "|    esc2023     |  111  |\n",
      "+----------------+-------+\n"
     ]
    }
   ],
   "source": [
    "from collections import Counter\n",
    "from prettytable import PrettyTable\n",
    "\n",
    "for label, data in ((\"Words\", words), (\"Screen_names\", screen_names), (\"Hashtags\",hashtags)):\n",
    "    pt = PrettyTable(field_names=(label, \"Count\"))\n",
    "    c = Counter(data)\n",
    "    [pt.add_row(row) for row in c.most_common()[:5]]\n",
    "    print(pt)\n",
    "   "
   ]
  },
  {
   "cell_type": "markdown",
   "metadata": {},
   "source": [
    "## Lexical Diversity\n",
    "- Calcuate number unique words by the number of all words\n",
    "- Calculate Average_words"
   ]
  },
  {
   "cell_type": "code",
   "execution_count": 14,
   "metadata": {},
   "outputs": [
    {
     "name": "stdout",
     "output_type": "stream",
     "text": [
      "+--------------+---------------------+\n",
      "|    Label     |      Diversity      |\n",
      "+--------------+---------------------+\n",
      "|    Words     |  0.3381796690307329 |\n",
      "| Screen_names | 0.39893617021276595 |\n",
      "|   Hashtags   | 0.07764198418404025 |\n",
      "+--------------+---------------------+\n",
      "14.1\n"
     ]
    }
   ],
   "source": [
    "\n",
    "pt = PrettyTable(field_names=[\"Label\", \"Diversity\"])\n",
    "for label, data in ((\"Words\", words), (\"Screen_names\", screen_names), (\"Hashtags\",hashtags)):\n",
    "    d= len(set(data))/ len(data)\n",
    "    pt.add_row([label,d ])\n",
    "print(pt)\n",
    "\n",
    "def average_words(statuses):\n",
    "    total_words = sum(map(lambda s: len(s.split()), statuses))\n",
    "    return total_words/len(statuses)\n",
    "\n",
    "print(average_words(status_texts)"
   ]
  },
  {
   "cell_type": "markdown",
   "metadata": {},
   "source": [
    "## Retweet Analysis\n",
    "- Finding the Top Retweet"
   ]
  },
  {
   "cell_type": "code",
   "execution_count": 15,
   "metadata": {},
   "outputs": [
    {
     "name": "stdout",
     "output_type": "stream",
     "text": [
      "[(350, 'lucaaaa_o', 'RT @lucaaaa_o: A thread with my Pokémon/Eurovision drawing \\n#alessandramele 🇳🇴 &amp; Vespiquen \\n#Eurovision2023 #ESC2023 #drawing #Pokemon #Eur…'), (69, 'berlinerzeitung', 'RT @berlinerzeitung: #ESC-Veranstalter lassen #Selenskyj abblitzen: Der ukrainische Präsident wird beim Finale des #EurovisionSongContest n…'), (64, 'KathaKlarname', 'RT @KathaKlarname: Wann treten die beiden eigentlich auf? #Eurovision2023 #ESC2023 https://t.co/Xc9rT9ei8X'), (17, 'WindmaschineESC', 'RT @WindmaschineESC: Peter Urban hat mich als seine Freundin bezeichnet!!! ❤❤❤😭#esc2023 #eurovision2023 #eurovision'), (15, 'KathaKlarname', 'RT @KathaKlarname: Menstruierende Menschen kennen dieses Problem. #Eurovision2023 #ESC2023 https://t.co/fZF8NbVTyn')]\n"
     ]
    }
   ],
   "source": [
    "retweets = [(status['retweet_count'], \n",
    "             status['retweeted_status']['user']['screen_name'], \n",
    "             status['text'])\n",
    "             for status in statuses\n",
    "                if 'retweeted_status' in status\n",
    "            ]\n",
    "top_retweets = sorted(list(set(retweets)), reverse=True)[:5]\n",
    "print(top_retweets)"
   ]
  },
  {
   "cell_type": "markdown",
   "metadata": {},
   "source": [
    "## Ploting\n",
    "- Ranked Plots\n",
    "- Histograms"
   ]
  },
  {
   "cell_type": "code",
   "execution_count": 22,
   "metadata": {},
   "outputs": [
    {
     "name": "stdout",
     "output_type": "stream",
     "text": [
      "335\n",
      "2861\n"
     ]
    },
    {
     "data": {
      "image/png": "[encoded data removed]",
      "text/plain": [
       "<Figure size 432x288 with 1 Axes>"
      ]
     },
     "metadata": {
      "needs_background": "light"
     },
     "output_type": "display_data"
    },
    {
     "data": {
      "image/png": "[encoded data removed]",
      "text/plain": [
       "<Figure size 432x288 with 1 Axes>"
      ]
     },
     "metadata": {
      "needs_background": "light"
     },
     "output_type": "display_data"
    },
    {
     "data": {
      "image/png": "[encoded data removed]",
      "text/plain": [
       "<Figure size 432x288 with 1 Axes>"
      ]
     },
     "metadata": {
      "needs_background": "light"
     },
     "output_type": "display_data"
    },
    {
     "data": {
      "image/png": "[encoded data removed]",
      "text/plain": [
       "<Figure size 432x288 with 1 Axes>"
      ]
     },
     "metadata": {
      "needs_background": "light"
     },
     "output_type": "display_data"
    },
    {
     "data": {
      "text/plain": [
       "<Figure size 432x288 with 0 Axes>"
      ]
     },
     "metadata": {},
     "output_type": "display_data"
    }
   ],
   "source": [
    "import matplotlib.pyplot as plt\n",
    "word_counts = sorted(Counter(words).values(), reverse=True)\n",
    "print(word_counts[0])\n",
    "print(len(word_counts))\n",
    "plt.loglog(word_counts)\n",
    "plt.ylabel(\"Freq\")\n",
    "plt.xlabel(\"Word Rank\")\n",
    "plt.figure()\n",
    "\n",
    "for label, data in ((\"Words\", words), (\"Screen_names\", screen_names), (\"Hashtags\",hashtags)):\n",
    "    c = Counter(data)\n",
    "    plt.hist(c.values())\n",
    "    \n",
    "    plt.title(label)\n",
    "    plt.ylabel(\"Number of items in bin\")\n",
    "    plt.xlabel(\"Bins (number of times an item appeared)\")\n",
    "\n",
    "    plt.figure()\n"
   ]
  }
 ],
 "metadata": {
  "kernelspec": {
   "display_name": "Python 3.9.13 ('sample_plot')",
   "language": "python",
   "name": "python3"
  },
  "language_info": {
   "codemirror_mode": {
    "name": "ipython",
    "version": 3
   },
   "file_extension": ".py",
   "mimetype": "text/x-python",
   "name": "python",
   "nbconvert_exporter": "python",
   "pygments_lexer": "ipython3",
   "version": "3.11.5"
  },
  "orig_nbformat": 4,
  "vscode": {
   "interpreter": {
    "hash": "e424cb7cf7e62f5f3330fc93e7fbc770378a1be0b30c4819e1a5db18a1ba1939"
   }
  }
 },
 "nbformat": 4,
 "nbformat_minor": 2
}
